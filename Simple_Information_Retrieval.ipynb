{
  "nbformat": 4,
  "nbformat_minor": 0,
  "metadata": {
    "colab": {
      "provenance": [],
      "authorship_tag": "ABX9TyO4l54BjviFcSz2Nou7AdyS",
      "include_colab_link": true
    },
    "kernelspec": {
      "name": "python3",
      "display_name": "Python 3"
    },
    "language_info": {
      "name": "python"
    }
  },
  "cells": [
    {
      "cell_type": "markdown",
      "metadata": {
        "id": "view-in-github",
        "colab_type": "text"
      },
      "source": [
        "<a href=\"https://colab.research.google.com/github/reeveboy/Simple-Information-Retrieval/blob/main/Simple_Information_Retrieval.ipynb\" target=\"_parent\"><img src=\"https://colab.research.google.com/assets/colab-badge.svg\" alt=\"Open In Colab\"/></a>"
      ]
    },
    {
      "cell_type": "code",
      "source": [
        "from google.colab import drive\n",
        "drive.mount('/content/drive')"
      ],
      "metadata": {
        "colab": {
          "base_uri": "https://localhost:8080/"
        },
        "id": "imONEhA-zzTi",
        "outputId": "f8874f2f-7778-47e2-ab91-63284da404c0"
      },
      "execution_count": 37,
      "outputs": [
        {
          "output_type": "stream",
          "name": "stdout",
          "text": [
            "Drive already mounted at /content/drive; to attempt to forcibly remount, call drive.mount(\"/content/drive\", force_remount=True).\n"
          ]
        }
      ]
    },
    {
      "cell_type": "code",
      "source": [
        "!pip install rank-bm25"
      ],
      "metadata": {
        "colab": {
          "base_uri": "https://localhost:8080/"
        },
        "id": "6ZdnZyoc-dVo",
        "outputId": "9a88b3aa-523d-4835-dcd1-1bf38650c4f0"
      },
      "execution_count": 38,
      "outputs": [
        {
          "output_type": "stream",
          "name": "stdout",
          "text": [
            "Requirement already satisfied: rank-bm25 in /usr/local/lib/python3.10/dist-packages (0.2.2)\n",
            "Requirement already satisfied: numpy in /usr/local/lib/python3.10/dist-packages (from rank-bm25) (1.25.2)\n"
          ]
        }
      ]
    },
    {
      "cell_type": "code",
      "source": [
        "!git clone https://github.com/usnistgov/trec_eval.git\n",
        "!make -C trec_eval\n",
        "# Download cranqrel.trec.txt file\n",
        "!wget https://raw.githubusercontent.com/oussbenk/cranfield-trec-dataset/main/cranqrel.trec.txt"
      ],
      "metadata": {
        "colab": {
          "base_uri": "https://localhost:8080/"
        },
        "id": "cvrpRRDq-Bg7",
        "outputId": "b5fc1f2a-8041-4e73-f612-c5d83b038f0b"
      },
      "execution_count": 39,
      "outputs": [
        {
          "output_type": "stream",
          "name": "stdout",
          "text": [
            "fatal: destination path 'trec_eval' already exists and is not an empty directory.\n",
            "make: Entering directory '/content/trec_eval'\n",
            "make: 'trec_eval' is up to date.\n",
            "make: Leaving directory '/content/trec_eval'\n",
            "--2024-03-18 10:12:23--  https://raw.githubusercontent.com/oussbenk/cranfield-trec-dataset/main/cranqrel.trec.txt\n",
            "Resolving raw.githubusercontent.com (raw.githubusercontent.com)... 185.199.108.133, 185.199.109.133, 185.199.110.133, ...\n",
            "Connecting to raw.githubusercontent.com (raw.githubusercontent.com)|185.199.108.133|:443... connected.\n",
            "HTTP request sent, awaiting response... 200 OK\n",
            "Length: 23217 (23K) [text/plain]\n",
            "Saving to: ‘cranqrel.trec.txt.1’\n",
            "\n",
            "cranqrel.trec.txt.1 100%[===================>]  22.67K  --.-KB/s    in 0s      \n",
            "\n",
            "2024-03-18 10:12:23 (110 MB/s) - ‘cranqrel.trec.txt.1’ saved [23217/23217]\n",
            "\n"
          ]
        }
      ]
    },
    {
      "cell_type": "code",
      "source": [
        "# loading basic packages\n",
        "import nltk\n",
        "nltk.download('punkt')\n",
        "nltk.download('stopwords')"
      ],
      "metadata": {
        "colab": {
          "base_uri": "https://localhost:8080/"
        },
        "id": "RjmjkEdQ0z9Z",
        "outputId": "57e6713a-f4f1-49a2-e24d-2c0b0d068a47"
      },
      "execution_count": 40,
      "outputs": [
        {
          "output_type": "stream",
          "name": "stderr",
          "text": [
            "[nltk_data] Downloading package punkt to /root/nltk_data...\n",
            "[nltk_data]   Package punkt is already up-to-date!\n",
            "[nltk_data] Downloading package stopwords to /root/nltk_data...\n",
            "[nltk_data]   Package stopwords is already up-to-date!\n"
          ]
        },
        {
          "output_type": "execute_result",
          "data": {
            "text/plain": [
              "True"
            ]
          },
          "metadata": {},
          "execution_count": 40
        }
      ]
    },
    {
      "cell_type": "code",
      "source": [
        "import pandas as pd\n",
        "from sklearn.metrics.pairwise import cosine_similarity\n",
        "from nltk import word_tokenize\n",
        "import re\n",
        "import numpy as np\n",
        "from collections import Counter\n",
        "from sklearn.feature_extraction.text import TfidfVectorizer\n",
        "from sklearn.metrics.pairwise import cosine_similarity\n",
        "import math\n",
        "from collections import Counter\n",
        "import subprocess\n",
        "from sklearn.model_selection import ParameterGrid\n",
        "from rank_bm25 import BM25Okapi"
      ],
      "metadata": {
        "id": "0187acwx0Why"
      },
      "execution_count": 41,
      "outputs": []
    },
    {
      "cell_type": "code",
      "source": [
        "df = pd.read_xml(\"/content/drive/MyDrive/datasets/Mechanics of Search/cran.all.1400.xml\")\n",
        "df = df[~df['text'].isna()] # remove null data\n",
        "\n",
        "queries = pd.read_xml(\"/content/drive/MyDrive/datasets/Mechanics of Search/cran.qry.xml\")"
      ],
      "metadata": {
        "id": "ZLg0MRnu0Ehj"
      },
      "execution_count": 42,
      "outputs": []
    },
    {
      "cell_type": "code",
      "source": [
        "from nltk.corpus import stopwords as nltk_en_stopwords\n",
        "from spacy.lang.en import stop_words as spacy_en_stopwords\n",
        "NLTK_EN = set(nltk_en_stopwords.words('english'))\n",
        "SPACY_EN = spacy_en_stopwords.STOP_WORDS\n",
        "stop_words = NLTK_EN.union(SPACY_EN)"
      ],
      "metadata": {
        "id": "poGXclnB04pm"
      },
      "execution_count": 43,
      "outputs": []
    },
    {
      "cell_type": "markdown",
      "source": [
        "Preprocessing the corpus"
      ],
      "metadata": {
        "id": "bAuDJCHr-MTE"
      }
    },
    {
      "cell_type": "code",
      "source": [
        "def preprocess(doc_text):\n",
        "  text = doc_text.lower()\n",
        "  text = re.sub(r'[^a-zA-Z0-9\\s]', ' ', text) # Removes special characteres\n",
        "\n",
        "  tokens = word_tokenize(text) # tokenize text\n",
        "\n",
        "  text = [words for words in tokens if words not in stop_words] # remove stop words\n",
        "\n",
        "  ps = nltk.stem.PorterStemmer()\n",
        "  stemmed = [ps.stem(words) for words in text] # Stem words to the root form\n",
        "\n",
        "  return stemmed"
      ],
      "metadata": {
        "id": "F5igKNLi099r"
      },
      "execution_count": 44,
      "outputs": []
    },
    {
      "cell_type": "code",
      "source": [
        "df.columns"
      ],
      "metadata": {
        "colab": {
          "base_uri": "https://localhost:8080/"
        },
        "id": "YIDK5-3Al2Vl",
        "outputId": "01e808eb-dd7e-417b-a853-1e8b950f8e31"
      },
      "execution_count": 45,
      "outputs": [
        {
          "output_type": "execute_result",
          "data": {
            "text/plain": [
              "Index(['docno', 'title', 'author', 'bib', 'text'], dtype='object')"
            ]
          },
          "metadata": {},
          "execution_count": 45
        }
      ]
    },
    {
      "cell_type": "code",
      "source": [
        "corpus = [' '.join([row['title'] or '', row['text'] or '']) for index, row in df.iterrows()]\n",
        "processed_corpus = [preprocess(doc) for doc in corpus]"
      ],
      "metadata": {
        "id": "2ykUd88klhw0"
      },
      "execution_count": 46,
      "outputs": []
    },
    {
      "cell_type": "markdown",
      "source": [
        "### Vector Space Model"
      ],
      "metadata": {
        "id": "arC_cCCWlvmi"
      }
    },
    {
      "cell_type": "code",
      "source": [
        "class VSM:\n",
        "  def __init__(self):\n",
        "    self.corpus = [' '.join(doc) for doc in processed_corpus]\n",
        "    self.vectorizer = TfidfVectorizer()\n",
        "    self.documents_vector = self.vectorizer.fit_transform(self.corpus)\n",
        "\n",
        "  def rank(self, query, top_n=100):\n",
        "    q = ' '.join(preprocess(query))\n",
        "    query_vector = self.vectorizer.transform([q])\n",
        "\n",
        "    cosineSimilarities = cosine_similarity(self.documents_vector, query_vector).flatten() # Calculate cosine similarities\n",
        "    related_docs_indices = cosineSimilarities.argsort()[::-1][:top_n]  # Get top_n indices\n",
        "\n",
        "    ranked_results = []\n",
        "    for rank, i in enumerate(related_docs_indices, start=1):\n",
        "        doc_id = df.iloc[i]['docno']\n",
        "        similarity_score = cosineSimilarities[i]\n",
        "        ranked_results.append((doc_id, similarity_score))\n",
        "\n",
        "    return ranked_results"
      ],
      "metadata": {
        "id": "gmJ5pGJXbf-S"
      },
      "execution_count": 47,
      "outputs": []
    },
    {
      "cell_type": "markdown",
      "source": [
        "### BM25 Model\n",
        "\n"
      ],
      "metadata": {
        "id": "d7BTUJIjldZB"
      }
    },
    {
      "cell_type": "code",
      "source": [
        "class BM25:\n",
        "  def __init__(self, k1, b):\n",
        "    self.corpus = processed_corpus\n",
        "    self.k1 = k1\n",
        "    self.b = b\n",
        "    self.avgdl = sum(len(doc) for doc in self.corpus) / len(self.corpus)\n",
        "    self.idf = self.calculate_idf()\n",
        "\n",
        "  def calculate_idf(self):\n",
        "    idf = {}\n",
        "    doc_count = len(self.corpus)\n",
        "    for doc in self.corpus:\n",
        "      word_set = set(doc)\n",
        "      for word in word_set:\n",
        "        idf[word] = idf.get(word, 0) + 1\n",
        "\n",
        "    for word, count in idf.items():\n",
        "      idf[word] = math.log((doc_count - count + 0.5) / (count + 0.5) + 1)\n",
        "\n",
        "    return idf\n",
        "\n",
        "  def get_bm25_score(self, query: list[str], doc: list[str]) -> float:\n",
        "    score = 0\n",
        "    doc_counter = Counter(doc)\n",
        "    doc_len = len(doc)\n",
        "    for word in query:\n",
        "      if word not in doc_counter:\n",
        "        continue\n",
        "      idf = self.idf.get(word, 0)\n",
        "      f = doc_counter[word]\n",
        "      score += idf * ((f * (self.k1 + 1)) / (f + self.k1 * (1 - self.b + self.b * (doc_len / self.avgdl))))\n",
        "    return score\n",
        "\n",
        "  def rank(self, query: str, top_n: int = 100) -> list[tuple[str, float]]:\n",
        "    q = preprocess(query)  # You should define preprocess function\n",
        "    scores = []\n",
        "\n",
        "    for i, doc in enumerate(self.corpus):\n",
        "      score = self.get_bm25_score(q, doc)\n",
        "      scores.append((i, score))\n",
        "\n",
        "    scores.sort(key=lambda x: x[1], reverse=True)\n",
        "\n",
        "    ranked_results = []\n",
        "    for rank, (idx, score) in enumerate(scores[:top_n], start=1):\n",
        "      doc_id = df.iloc[idx]['docno']  # Assuming df is defined somewhere\n",
        "      similarity_score = score\n",
        "      ranked_results.append((doc_id, similarity_score))\n",
        "\n",
        "    return ranked_results"
      ],
      "metadata": {
        "id": "zH9VpSXqzX9w"
      },
      "execution_count": 48,
      "outputs": []
    },
    {
      "cell_type": "markdown",
      "source": [
        "### Relevance Model"
      ],
      "metadata": {
        "id": "5BN-Ouhxl3yc"
      }
    },
    {
      "cell_type": "code",
      "source": [
        "class RelevanceModel:\n",
        "  def __init__(self, mu, lambda_, top_n, top_terms):\n",
        "    self.corpus = [' '.join(doc) for doc in processed_corpus]\n",
        "    self.mu = mu\n",
        "    self.lambda_ = lambda_\n",
        "    self.top_n = top_n\n",
        "    self.top_terms = top_terms\n",
        "    self.vectorizer = TfidfVectorizer()\n",
        "    self.documents_tfidf = self.vectorizer.fit_transform(self.corpus)\n",
        "    self.vocab = np.array(self.vectorizer.get_feature_names_out())\n",
        "\n",
        "  def rank(self, query, n=100):\n",
        "    query = ' '.join(preprocess(query))\n",
        "\n",
        "    # Initial ranking\n",
        "    initial_scores = self.rank_documents(query)\n",
        "    top_docs = [idx for idx, _ in initial_scores[:self.top_n]]  # Select top documents\n",
        "\n",
        "    # Feedback query expansion using top documents\n",
        "    relevant_docs_tfidf = self.documents_tfidf[top_docs]\n",
        "    new_query = self.expand_query(query, relevant_docs_tfidf)\n",
        "\n",
        "    # Re-rank documents using the new query\n",
        "    re_ranked_scores = self.rank_documents(new_query)\n",
        "\n",
        "    ranked_results = []\n",
        "    for idx, score in re_ranked_scores[:n]:\n",
        "      doc_id = df.iloc[idx]['docno']\n",
        "      similarity_score = score\n",
        "      ranked_results.append((doc_id, similarity_score))\n",
        "\n",
        "    return ranked_results\n",
        "\n",
        "  def rank_documents(self, query):\n",
        "    query_tfidf = self.vectorizer.transform([query])\n",
        "    similarities = cosine_similarity(query_tfidf, self.documents_tfidf)\n",
        "    similarities = similarities.flatten()\n",
        "    document_scores = [(i, score) for i, score in enumerate(similarities)]\n",
        "    document_scores.sort(key=lambda x: x[1], reverse=True)\n",
        "    return document_scores\n",
        "\n",
        "  def expand_query(self, original_query, relevant_docs_tfidf):\n",
        "    # Calculate query likelihood P(t | R) for each term\n",
        "    query_tfidf = self.vectorizer.transform([original_query])\n",
        "    doc_length = relevant_docs_tfidf.sum(axis=1)\n",
        "    doc_length_norm = doc_length / (doc_length + self.mu)\n",
        "    query_likelihood = np.asarray(relevant_docs_tfidf.sum(axis=0) / doc_length_norm).flatten()\n",
        "\n",
        "    # Get top terms with higher P(t | R)\n",
        "    top_term_indices = np.argsort(query_likelihood)[::-1][:self.top_terms]\n",
        "    top_term_indices = top_term_indices[top_term_indices < len(self.vocab)]\n",
        "    top_terms = self.vocab[top_term_indices]\n",
        "\n",
        "    # Interpolate with original query\n",
        "    original_query_tfidf = self.vectorizer.transform([original_query])\n",
        "    new_query_tfidf = self.lambda_ * query_likelihood[top_term_indices] + (1 - self.lambda_) * original_query_tfidf[:, top_term_indices]\n",
        "\n",
        "    # Construct new query\n",
        "    new_query = \" \".join(top_terms)\n",
        "    return new_query"
      ],
      "metadata": {
        "id": "BcNVKS-fl5ye"
      },
      "execution_count": 49,
      "outputs": []
    },
    {
      "cell_type": "code",
      "source": [
        "# Helper function to output results to files\n",
        "def output_results_to_trec_format(results, model_name, output_file):\n",
        "    with open(output_file, 'w') as f:\n",
        "        for query_id, docs in results.items():\n",
        "            for rank, (doc_id, score) in enumerate(docs, start=1):\n",
        "                line = f\"{query_id} 0 {doc_id} {rank} {score} {model_name}\\n\"\n",
        "                f.write(line)"
      ],
      "metadata": {
        "id": "-Xq2pNjykn-A"
      },
      "execution_count": 50,
      "outputs": []
    },
    {
      "cell_type": "code",
      "source": [
        "vsm_model = VSM()\n",
        "bm25_model = BM25(k1=1.0, b=0.7)\n",
        "relevance_model = RelevanceModel(mu=100, lambda_=0.6, top_n=10, top_terms=35)\n",
        "\n",
        "# Dictionary to store results for each query\n",
        "vsm_results = {}\n",
        "bm25_results = {}\n",
        "relevance_results = {}\n",
        "\n",
        "# Execute VSM model for each query\n",
        "for query_info in queries.to_dict(orient='records'):\n",
        "  query_num = query_info['num']\n",
        "  query_title = query_info[\"title\"]\n",
        "  vsm_result = vsm_model.rank(query_title, top_n=100)  # Execute VSM model for the query\n",
        "  vsm_results[query_num] = vsm_result\n",
        "\n",
        "  bm25_result = bm25_model.rank(query_title, top_n=100)  # Execute BM25 model for the query\n",
        "  bm25_results[query_num] = bm25_result\n",
        "\n",
        "  relevance_result = relevance_model.rank(query_title, n=100)  # Execute RelevanceModel for the query\n",
        "  relevance_results[query_num] = relevance_result\n",
        "\n",
        "!rm vsm_results.txt\n",
        "!rm bm25_results.txt\n",
        "!rm relevance_results.txt\n",
        "\n",
        "# Output VSM results to file in TREC format\n",
        "output_results_to_trec_format(vsm_results, \"vsm\", \"vsm_results.txt\")\n",
        "output_results_to_trec_format(bm25_results, \"bm25\", \"bm25_results.txt\")\n",
        "output_results_to_trec_format(relevance_results, \"relevance\", \"relevance_results.txt\")"
      ],
      "metadata": {
        "id": "Vf2uddkKtsl5"
      },
      "execution_count": 89,
      "outputs": []
    },
    {
      "cell_type": "code",
      "source": [
        "# Helper function to run trec_eval command\n",
        "def run_trec_eval_command(trec_eval_path, qrel_file, results_file):\n",
        "  command = [trec_eval_path, \"-m\", \"P.5\", \"-m\", \"ndcg\", \"-m\", \"map\", qrel_file, results_file]\n",
        "  try:\n",
        "    process = subprocess.Popen(command, stdout=subprocess.PIPE, stderr=subprocess.PIPE)\n",
        "    output, error = process.communicate()\n",
        "\n",
        "    output_str = output.decode(\"utf-8\")\n",
        "    output_lines = output_str.split(\"\\n\")\n",
        "    metric_values = {}\n",
        "    for line in output_lines:\n",
        "      if line.strip() == \"\":\n",
        "        continue\n",
        "      parts = line.split()\n",
        "      if len(parts) < 3:\n",
        "        print(\"Unexpected output format:\", line)\n",
        "        continue\n",
        "      metric = parts[0]\n",
        "      value = float(parts[2])\n",
        "      metric_values[metric] = value\n",
        "\n",
        "    return metric_values\n",
        "  except Exception as e:\n",
        "    print(\"Error running trec_eval:\", e)\n",
        "    return {}\n"
      ],
      "metadata": {
        "id": "ZvYCn0CBQFv7"
      },
      "execution_count": 52,
      "outputs": []
    },
    {
      "cell_type": "code",
      "source": [
        "trec_eval_path = \"./trec_eval/trec_eval\"\n",
        "path_to_cranfield_qrel = \"/content/cranqrel.trec.txt\"\n",
        "path_to_vsm_results = \"/content/vsm_results.txt\"\n",
        "path_to_bm25_results = \"/content/bm25_results.txt\"\n",
        "path_to_relevance_results = \"/content/relevance_results.txt\"\n",
        "\n",
        "vsm_score = run_trec_eval_command(trec_eval_path, path_to_cranfield_qrel, path_to_vsm_results)\n",
        "bm_score = run_trec_eval_command(trec_eval_path, path_to_cranfield_qrel, path_to_bm25_results)\n",
        "relevance_score = run_trec_eval_command(trec_eval_path, path_to_cranfield_qrel, path_to_relevance_results)\n",
        "print(f\"VSM Results: {vsm_score}\")\n",
        "print(f\"BM25 Results: {bm_score}\")\n",
        "print(f\"RM Results: {relevance_score}\")"
      ],
      "metadata": {
        "colab": {
          "base_uri": "https://localhost:8080/"
        },
        "id": "-ZN4_q-iv9Ez",
        "outputId": "4d98ee42-d2d8-4efd-8898-ef0d8651f59a"
      },
      "execution_count": 90,
      "outputs": [
        {
          "output_type": "stream",
          "name": "stdout",
          "text": [
            "VSM Results: {'map': 0.0105, 'P_5': 0.0158, 'ndcg': 0.0408}\n",
            "BM25 Results: {'map': 0.0094, 'P_5': 0.0145, 'ndcg': 0.0376}\n",
            "RM Results: {'map': 0.0138, 'P_5': 0.0211, 'ndcg': 0.0417}\n"
          ]
        }
      ]
    },
    {
      "cell_type": "markdown",
      "source": [
        "## Comparing My BM25 algorithm against BM25Rank module"
      ],
      "metadata": {
        "id": "ce_21ydm_1Ia"
      }
    },
    {
      "cell_type": "code",
      "source": [
        "class BM25Rank:\n",
        "  def __init__(self):\n",
        "    self.tokenized_corpus = processed_corpus\n",
        "    self.bm25 = BM25Okapi(processed_corpus)\n",
        "\n",
        "  def rank(self, query, top_n=100):\n",
        "    tokenized_query = query.split()\n",
        "    doc_scores = self.bm25.get_scores(tokenized_query)\n",
        "    ranked_indices = sorted(range(len(doc_scores)), key=lambda i: doc_scores[i], reverse=True)[:top_n]\n",
        "\n",
        "    ranked_results = []\n",
        "    for idx in ranked_indices:\n",
        "      doc_id = idx  # Assuming doc_id is just the index\n",
        "      similarity_score = doc_scores[idx]\n",
        "      ranked_results.append((doc_id, similarity_score))\n",
        "\n",
        "    return ranked_results"
      ],
      "metadata": {
        "id": "ubroej1iR-y1"
      },
      "execution_count": 56,
      "outputs": []
    },
    {
      "cell_type": "code",
      "source": [
        "my_bm25_results = {}\n",
        "bm25_results = {}\n",
        "\n",
        "bm25 = BM25Rank()\n",
        "my_bm25 = BM25(1.0, 0.7)\n",
        "for query_info in queries.to_dict(orient='records'):\n",
        "    query_num = query_info['num']\n",
        "    query_title = query_info[\"title\"]\n",
        "\n",
        "    bm25_result = bm25_model.rank(query_title, top_n=100)  # Execute BM25 model for the query\n",
        "    bm25_results[query_num] = bm25_result\n",
        "\n",
        "    my_bm25_result = my_bm25.rank(query_title, top_n=100)  # Execute BM25 model for the query\n",
        "    my_bm25_results[query_num] = my_bm25_result\n",
        "\n",
        "# Output results to a file in trec_eval format\n",
        "output_results_to_trec_format(bm25_results, \"bm25\", \"module.txt\")\n",
        "output_results_to_trec_format(bm25_results, \"bm25\", \"my.txt\")"
      ],
      "metadata": {
        "id": "he3owVyoT9Jk"
      },
      "execution_count": 86,
      "outputs": []
    },
    {
      "cell_type": "code",
      "source": [
        "# Evaluate the new parameters\n",
        "score = run_trec_eval_command(trec_eval_path, path_to_cranfield_qrel, \"/content/module.txt\")\n",
        "print(f\"Module score: {score}\")"
      ],
      "metadata": {
        "colab": {
          "base_uri": "https://localhost:8080/"
        },
        "id": "9TA8b3gyGaXJ",
        "outputId": "119a1fc9-2838-496e-8b3e-66572a9f76c0"
      },
      "execution_count": 87,
      "outputs": [
        {
          "output_type": "stream",
          "name": "stdout",
          "text": [
            "Module score: {'map': 0.0089, 'P_5': 0.0145, 'ndcg': 0.0384}\n"
          ]
        }
      ]
    },
    {
      "cell_type": "code",
      "source": [
        "my_score = run_trec_eval_command(trec_eval_path, path_to_cranfield_qrel, \"/content/my.txt\")\n",
        "print(f\"My score: {my_score}\")"
      ],
      "metadata": {
        "colab": {
          "base_uri": "https://localhost:8080/"
        },
        "id": "7h3UClHEGWfO",
        "outputId": "5ba72c9a-1573-4fe7-b4d5-0e28f3473649"
      },
      "execution_count": 88,
      "outputs": [
        {
          "output_type": "stream",
          "name": "stdout",
          "text": [
            "My score: {'map': 0.0089, 'P_5': 0.0145, 'ndcg': 0.0384}\n"
          ]
        }
      ]
    },
    {
      "cell_type": "markdown",
      "source": [
        "Finding the best hyperparameters for BM25"
      ],
      "metadata": {
        "id": "bdvhC---_Iv_"
      }
    },
    {
      "cell_type": "code",
      "source": [
        "# Define a grid of hyperparameters to search through\n",
        "param_grid = {\n",
        "  'k1': [0.5, 1.0, 1.2, 1.5, 1.7, 1.9, 2.2],\n",
        "  'b': [0.3, 0.5, 0.7, 0.75, 0.8, 0.9]\n",
        "}\n",
        "\n",
        "metrics = [\"P_5\", \"ndcg\", \"map\"]\n",
        "\n",
        "# Previous best parameters\n",
        "best_k1 = 1.2\n",
        "best_b = 0.75\n",
        "best_param = (best_k1, best_b)\n",
        "\n",
        "# Placeholder for best results\n",
        "best_results = {metric: -1 for metric in metrics}\n",
        "\n",
        "for params in ParameterGrid(param_grid):\n",
        "  bm25_model = BM25(k1=params['k1'], b=params['b'])\n",
        "\n",
        "  # Execute BM25 model for each query\n",
        "  bm25_results = {}\n",
        "  for query_info in queries.to_dict(orient='records'):\n",
        "    query_num = query_info['num']\n",
        "    query_title = query_info[\"title\"]\n",
        "    bm25_result = bm25_model.rank(query_title, top_n=100)  # Execute BM25 model for the query\n",
        "    bm25_results[query_num] = bm25_result\n",
        "\n",
        "  # Output results to a file in trec_eval format\n",
        "  output_results_to_trec_format(bm25_results, \"bm25\", \"bm25_results.txt\")\n",
        "\n",
        "  # Evaluate the model and get the average score\n",
        "  metrics = [\"P_5\", \"ndcg\", \"map\"]  # Corrected \"P.5\" to \"P_5\"\n",
        "  path_to_cranfield_qrel = \"/content/cranqrel.trec.txt\"\n",
        "  path_to_bm25_results = \"/content/bm25_results.txt\"\n",
        "\n",
        "  # Evaluate the new parameters\n",
        "  new_results = run_trec_eval_command(trec_eval_path, path_to_cranfield_qrel, path_to_bm25_results)\n",
        "\n",
        "  # Compare the results\n",
        "  better_than_best = False\n",
        "  c = 0\n",
        "  for metric in metrics:\n",
        "    if metric not in new_results:\n",
        "      print(\"Metrics not present\")\n",
        "      continue\n",
        "    if new_results[metric] >= best_results[metric]:\n",
        "      c += 1\n",
        "\n",
        "  if c == 3:\n",
        "    better_than_best = True\n",
        "\n",
        "  # If the new parameters are better, update bestparam\n",
        "  if better_than_best:\n",
        "    best_k1, best_b = params['k1'], params['b']\n",
        "    best_param = (best_k1, best_b)\n",
        "    print(\"New parameters are better. Updated bestparam:\", best_param)\n",
        "    # Update best_results\n",
        "    best_results = new_results\n",
        "  else:\n",
        "    print(f\"New parameters {(params['k1'], params['b'])} are not better. Keeping current bestparam: {best_param}\")\n"
      ],
      "metadata": {
        "colab": {
          "base_uri": "https://localhost:8080/"
        },
        "id": "5T__1Rc8KQpT",
        "outputId": "c5fef51b-9fd8-4422-f86c-00d71796a9b7"
      },
      "execution_count": 85,
      "outputs": [
        {
          "output_type": "stream",
          "name": "stdout",
          "text": [
            "New parameters are better. Updated bestparam: (0.5, 0.3)\n",
            "New parameters are better. Updated bestparam: (1.0, 0.3)\n",
            "New parameters are better. Updated bestparam: (1.2, 0.3)\n",
            "New parameters (1.5, 0.3) are not better. Keeping current bestparam: (1.2, 0.3)\n",
            "New parameters (1.7, 0.3) are not better. Keeping current bestparam: (1.2, 0.3)\n",
            "New parameters (1.9, 0.3) are not better. Keeping current bestparam: (1.2, 0.3)\n",
            "New parameters (2.2, 0.3) are not better. Keeping current bestparam: (1.2, 0.3)\n",
            "New parameters (0.5, 0.5) are not better. Keeping current bestparam: (1.2, 0.3)\n",
            "New parameters are better. Updated bestparam: (1.0, 0.5)\n",
            "New parameters (1.2, 0.5) are not better. Keeping current bestparam: (1.0, 0.5)\n",
            "New parameters (1.5, 0.5) are not better. Keeping current bestparam: (1.0, 0.5)\n",
            "New parameters (1.7, 0.5) are not better. Keeping current bestparam: (1.0, 0.5)\n",
            "New parameters (1.9, 0.5) are not better. Keeping current bestparam: (1.0, 0.5)\n",
            "New parameters (2.2, 0.5) are not better. Keeping current bestparam: (1.0, 0.5)\n",
            "New parameters (0.5, 0.7) are not better. Keeping current bestparam: (1.0, 0.5)\n",
            "New parameters are better. Updated bestparam: (1.0, 0.7)\n",
            "New parameters (1.2, 0.7) are not better. Keeping current bestparam: (1.0, 0.7)\n",
            "New parameters (1.5, 0.7) are not better. Keeping current bestparam: (1.0, 0.7)\n",
            "New parameters (1.7, 0.7) are not better. Keeping current bestparam: (1.0, 0.7)\n",
            "New parameters (1.9, 0.7) are not better. Keeping current bestparam: (1.0, 0.7)\n",
            "New parameters (2.2, 0.7) are not better. Keeping current bestparam: (1.0, 0.7)\n",
            "New parameters (0.5, 0.75) are not better. Keeping current bestparam: (1.0, 0.7)\n",
            "New parameters (1.0, 0.75) are not better. Keeping current bestparam: (1.0, 0.7)\n",
            "New parameters (1.2, 0.75) are not better. Keeping current bestparam: (1.0, 0.7)\n",
            "New parameters (1.5, 0.75) are not better. Keeping current bestparam: (1.0, 0.7)\n",
            "New parameters (1.7, 0.75) are not better. Keeping current bestparam: (1.0, 0.7)\n",
            "New parameters (1.9, 0.75) are not better. Keeping current bestparam: (1.0, 0.7)\n",
            "New parameters (2.2, 0.75) are not better. Keeping current bestparam: (1.0, 0.7)\n",
            "New parameters (0.5, 0.8) are not better. Keeping current bestparam: (1.0, 0.7)\n",
            "New parameters (1.0, 0.8) are not better. Keeping current bestparam: (1.0, 0.7)\n",
            "New parameters (1.2, 0.8) are not better. Keeping current bestparam: (1.0, 0.7)\n",
            "New parameters (1.5, 0.8) are not better. Keeping current bestparam: (1.0, 0.7)\n",
            "New parameters (1.7, 0.8) are not better. Keeping current bestparam: (1.0, 0.7)\n",
            "New parameters (1.9, 0.8) are not better. Keeping current bestparam: (1.0, 0.7)\n",
            "New parameters (2.2, 0.8) are not better. Keeping current bestparam: (1.0, 0.7)\n",
            "New parameters (0.5, 0.9) are not better. Keeping current bestparam: (1.0, 0.7)\n",
            "New parameters (1.0, 0.9) are not better. Keeping current bestparam: (1.0, 0.7)\n",
            "New parameters (1.2, 0.9) are not better. Keeping current bestparam: (1.0, 0.7)\n",
            "New parameters (1.5, 0.9) are not better. Keeping current bestparam: (1.0, 0.7)\n",
            "New parameters (1.7, 0.9) are not better. Keeping current bestparam: (1.0, 0.7)\n",
            "New parameters (1.9, 0.9) are not better. Keeping current bestparam: (1.0, 0.7)\n",
            "New parameters (2.2, 0.9) are not better. Keeping current bestparam: (1.0, 0.7)\n"
          ]
        }
      ]
    },
    {
      "cell_type": "markdown",
      "source": [
        "Finding the best hyperparameters for Relevance Model"
      ],
      "metadata": {
        "id": "DyAfLTPtBSLw"
      }
    },
    {
      "cell_type": "code",
      "source": [
        "# Define a grid of hyperparameters to search through\n",
        "param_grid = {\n",
        "  'mu': [100, 200, 350, 500, 600],\n",
        "  'lambda_': [0.2, 0.4, 0.6],\n",
        "  'top_n': [5, 10, 15],\n",
        "  'top_terms': [25, 30, 35]\n",
        "}\n",
        "\n",
        "metrics = [\"P_5\", \"ndcg\", \"map\"]\n",
        "\n",
        "# Previous best parameters\n",
        "best_mu = 500\n",
        "best_lambda = 0.5\n",
        "best_top_n = 10\n",
        "best_top_terms = 20\n",
        "best_params = (best_mu, best_lambda, best_top_n, best_top_terms)\n",
        "\n",
        "# Placeholder for best results\n",
        "best_results = {metric: -1 for metric in metrics}\n",
        "\n",
        "for params in ParameterGrid(param_grid):\n",
        "  relevance_model = RelevanceModel(mu=params['mu'], lambda_=params['lambda_'],\n",
        "                                    top_n=params['top_n'], top_terms=params['top_terms'])\n",
        "\n",
        "  # Execute Relevance Model for each query\n",
        "  relevance_results = {}\n",
        "  for query_info in queries.to_dict(orient='records'):\n",
        "    query_num = query_info['num']\n",
        "    query_title = query_info[\"title\"]\n",
        "    relevance_result = relevance_model.rank(query_title, n=100)  # Execute RM for the query\n",
        "    relevance_results[query_num] = relevance_result\n",
        "\n",
        "  # Output results to a file in trec_eval format\n",
        "  output_results_to_trec_format(relevance_results, \"relevance\", \"relevance_results.txt\")\n",
        "\n",
        "  # Evaluate the model and get the average score\n",
        "  path_to_cranfield_qrel = \"/content/cranqrel.trec.txt\"\n",
        "  path_to_relevance_results = \"/content/relevance_results.txt\"\n",
        "\n",
        "  # Evaluate the new parameters\n",
        "  new_results = run_trec_eval_command(trec_eval_path, path_to_cranfield_qrel, path_to_relevance_results)\n",
        "\n",
        "  # Compare the results\n",
        "  better_than_best = False\n",
        "  c = 0\n",
        "  for metric in metrics:\n",
        "    if metric not in new_results:\n",
        "      print(new_results)\n",
        "      continue\n",
        "    if new_results[metric] >= best_results[metric]:\n",
        "      c += 1\n",
        "\n",
        "  if c == 3:\n",
        "    better_than_best = True\n",
        "\n",
        "  # If the new parameters are better, update best_params\n",
        "  if better_than_best:\n",
        "    best_mu, best_lambda, best_top_n, best_top_terms = params['mu'], params['lambda_'], params['top_n'], params['top_terms']\n",
        "    best_params = (best_mu, best_lambda, best_top_n, best_top_terms)\n",
        "    print(\"New parameters are better. Updated best_params:\", best_params)\n",
        "    print(f\"old: {best_results}, new: {new_results}\")\n",
        "    print(\"=================================================\")\n",
        "    # Update best_results\n",
        "    best_results = new_results\n",
        "  else:\n",
        "    print(f\"New parameters {(params['mu'], params['lambda_'], params['top_n'], params['top_terms'])} are not better. Keeping current bestparam: {best_params}\")\n",
        "    print(f\"old: {best_results}, new: {new_results}\")\n",
        "    print(\"+++++++++++++++++++++++++++++++++++++++++++++++++\")"
      ],
      "metadata": {
        "colab": {
          "base_uri": "https://localhost:8080/"
        },
        "id": "5_iPFnAaxzaI",
        "outputId": "65f16c77-c064-4d1a-b1bc-d440574b3ad6"
      },
      "execution_count": 84,
      "outputs": [
        {
          "output_type": "stream",
          "name": "stdout",
          "text": [
            "New parameters are better. Updated best_params: (100, 0.2, 5, 25)\n",
            "old: {'P_5': -1, 'ndcg': -1, 'map': -1}, new: {'map': 0.0114, 'P_5': 0.0197, 'ndcg': 0.0394}\n",
            "=================================================\n",
            "New parameters (100, 0.2, 5, 30) are not better. Keeping current bestparam: (100, 0.2, 5, 25)\n",
            "old: {'map': 0.0114, 'P_5': 0.0197, 'ndcg': 0.0394}, new: {'map': 0.0114, 'P_5': 0.0184, 'ndcg': 0.0394}\n",
            "+++++++++++++++++++++++++++++++++++++++++++++++++\n",
            "New parameters (100, 0.2, 5, 35) are not better. Keeping current bestparam: (100, 0.2, 5, 25)\n",
            "old: {'map': 0.0114, 'P_5': 0.0197, 'ndcg': 0.0394}, new: {'map': 0.0097, 'P_5': 0.0145, 'ndcg': 0.0386}\n",
            "+++++++++++++++++++++++++++++++++++++++++++++++++\n",
            "New parameters (100, 0.2, 10, 25) are not better. Keeping current bestparam: (100, 0.2, 5, 25)\n",
            "old: {'map': 0.0114, 'P_5': 0.0197, 'ndcg': 0.0394}, new: {'map': 0.0125, 'P_5': 0.0197, 'ndcg': 0.0385}\n",
            "+++++++++++++++++++++++++++++++++++++++++++++++++\n",
            "New parameters are better. Updated best_params: (100, 0.2, 10, 30)\n",
            "old: {'map': 0.0114, 'P_5': 0.0197, 'ndcg': 0.0394}, new: {'map': 0.0133, 'P_5': 0.0197, 'ndcg': 0.041}\n",
            "=================================================\n",
            "New parameters are better. Updated best_params: (100, 0.2, 10, 35)\n",
            "old: {'map': 0.0133, 'P_5': 0.0197, 'ndcg': 0.041}, new: {'map': 0.0138, 'P_5': 0.0211, 'ndcg': 0.0417}\n",
            "=================================================\n",
            "New parameters (100, 0.2, 15, 25) are not better. Keeping current bestparam: (100, 0.2, 10, 35)\n",
            "old: {'map': 0.0138, 'P_5': 0.0211, 'ndcg': 0.0417}, new: {'map': 0.0112, 'P_5': 0.0158, 'ndcg': 0.0395}\n",
            "+++++++++++++++++++++++++++++++++++++++++++++++++\n",
            "New parameters (100, 0.2, 15, 30) are not better. Keeping current bestparam: (100, 0.2, 10, 35)\n",
            "old: {'map': 0.0138, 'P_5': 0.0211, 'ndcg': 0.0417}, new: {'map': 0.0121, 'P_5': 0.0171, 'ndcg': 0.04}\n",
            "+++++++++++++++++++++++++++++++++++++++++++++++++\n",
            "New parameters (100, 0.2, 15, 35) are not better. Keeping current bestparam: (100, 0.2, 10, 35)\n",
            "old: {'map': 0.0138, 'P_5': 0.0211, 'ndcg': 0.0417}, new: {'map': 0.0123, 'P_5': 0.0171, 'ndcg': 0.0402}\n",
            "+++++++++++++++++++++++++++++++++++++++++++++++++\n",
            "New parameters (200, 0.2, 5, 25) are not better. Keeping current bestparam: (100, 0.2, 10, 35)\n",
            "old: {'map': 0.0138, 'P_5': 0.0211, 'ndcg': 0.0417}, new: {'map': 0.0114, 'P_5': 0.0197, 'ndcg': 0.0397}\n",
            "+++++++++++++++++++++++++++++++++++++++++++++++++\n",
            "New parameters (200, 0.2, 5, 30) are not better. Keeping current bestparam: (100, 0.2, 10, 35)\n",
            "old: {'map': 0.0138, 'P_5': 0.0211, 'ndcg': 0.0417}, new: {'map': 0.0112, 'P_5': 0.0171, 'ndcg': 0.0393}\n",
            "+++++++++++++++++++++++++++++++++++++++++++++++++\n",
            "New parameters (200, 0.2, 5, 35) are not better. Keeping current bestparam: (100, 0.2, 10, 35)\n",
            "old: {'map': 0.0138, 'P_5': 0.0211, 'ndcg': 0.0417}, new: {'map': 0.0098, 'P_5': 0.0145, 'ndcg': 0.0395}\n",
            "+++++++++++++++++++++++++++++++++++++++++++++++++\n",
            "New parameters (200, 0.2, 10, 25) are not better. Keeping current bestparam: (100, 0.2, 10, 35)\n",
            "old: {'map': 0.0138, 'P_5': 0.0211, 'ndcg': 0.0417}, new: {'map': 0.0125, 'P_5': 0.0197, 'ndcg': 0.0388}\n",
            "+++++++++++++++++++++++++++++++++++++++++++++++++\n",
            "New parameters (200, 0.2, 10, 30) are not better. Keeping current bestparam: (100, 0.2, 10, 35)\n",
            "old: {'map': 0.0138, 'P_5': 0.0211, 'ndcg': 0.0417}, new: {'map': 0.0133, 'P_5': 0.0197, 'ndcg': 0.041}\n",
            "+++++++++++++++++++++++++++++++++++++++++++++++++\n",
            "New parameters (200, 0.2, 10, 35) are not better. Keeping current bestparam: (100, 0.2, 10, 35)\n",
            "old: {'map': 0.0138, 'P_5': 0.0211, 'ndcg': 0.0417}, new: {'map': 0.0133, 'P_5': 0.0211, 'ndcg': 0.0401}\n",
            "+++++++++++++++++++++++++++++++++++++++++++++++++\n",
            "New parameters (200, 0.2, 15, 25) are not better. Keeping current bestparam: (100, 0.2, 10, 35)\n",
            "old: {'map': 0.0138, 'P_5': 0.0211, 'ndcg': 0.0417}, new: {'map': 0.0112, 'P_5': 0.0158, 'ndcg': 0.0395}\n",
            "+++++++++++++++++++++++++++++++++++++++++++++++++\n",
            "New parameters (200, 0.2, 15, 30) are not better. Keeping current bestparam: (100, 0.2, 10, 35)\n",
            "old: {'map': 0.0138, 'P_5': 0.0211, 'ndcg': 0.0417}, new: {'map': 0.0121, 'P_5': 0.0171, 'ndcg': 0.04}\n",
            "+++++++++++++++++++++++++++++++++++++++++++++++++\n",
            "New parameters (200, 0.2, 15, 35) are not better. Keeping current bestparam: (100, 0.2, 10, 35)\n",
            "old: {'map': 0.0138, 'P_5': 0.0211, 'ndcg': 0.0417}, new: {'map': 0.0123, 'P_5': 0.0171, 'ndcg': 0.0402}\n",
            "+++++++++++++++++++++++++++++++++++++++++++++++++\n",
            "New parameters (350, 0.2, 5, 25) are not better. Keeping current bestparam: (100, 0.2, 10, 35)\n",
            "old: {'map': 0.0138, 'P_5': 0.0211, 'ndcg': 0.0417}, new: {'map': 0.0114, 'P_5': 0.0197, 'ndcg': 0.0397}\n",
            "+++++++++++++++++++++++++++++++++++++++++++++++++\n",
            "New parameters (350, 0.2, 5, 30) are not better. Keeping current bestparam: (100, 0.2, 10, 35)\n",
            "old: {'map': 0.0138, 'P_5': 0.0211, 'ndcg': 0.0417}, new: {'map': 0.0112, 'P_5': 0.0171, 'ndcg': 0.0393}\n",
            "+++++++++++++++++++++++++++++++++++++++++++++++++\n",
            "New parameters (350, 0.2, 5, 35) are not better. Keeping current bestparam: (100, 0.2, 10, 35)\n",
            "old: {'map': 0.0138, 'P_5': 0.0211, 'ndcg': 0.0417}, new: {'map': 0.0098, 'P_5': 0.0145, 'ndcg': 0.0393}\n",
            "+++++++++++++++++++++++++++++++++++++++++++++++++\n",
            "New parameters (350, 0.2, 10, 25) are not better. Keeping current bestparam: (100, 0.2, 10, 35)\n",
            "old: {'map': 0.0138, 'P_5': 0.0211, 'ndcg': 0.0417}, new: {'map': 0.0125, 'P_5': 0.0197, 'ndcg': 0.0388}\n",
            "+++++++++++++++++++++++++++++++++++++++++++++++++\n",
            "New parameters (350, 0.2, 10, 30) are not better. Keeping current bestparam: (100, 0.2, 10, 35)\n",
            "old: {'map': 0.0138, 'P_5': 0.0211, 'ndcg': 0.0417}, new: {'map': 0.0133, 'P_5': 0.0197, 'ndcg': 0.041}\n",
            "+++++++++++++++++++++++++++++++++++++++++++++++++\n",
            "New parameters (350, 0.2, 10, 35) are not better. Keeping current bestparam: (100, 0.2, 10, 35)\n",
            "old: {'map': 0.0138, 'P_5': 0.0211, 'ndcg': 0.0417}, new: {'map': 0.0133, 'P_5': 0.0211, 'ndcg': 0.0401}\n",
            "+++++++++++++++++++++++++++++++++++++++++++++++++\n",
            "New parameters (350, 0.2, 15, 25) are not better. Keeping current bestparam: (100, 0.2, 10, 35)\n",
            "old: {'map': 0.0138, 'P_5': 0.0211, 'ndcg': 0.0417}, new: {'map': 0.0112, 'P_5': 0.0158, 'ndcg': 0.0395}\n",
            "+++++++++++++++++++++++++++++++++++++++++++++++++\n",
            "New parameters (350, 0.2, 15, 30) are not better. Keeping current bestparam: (100, 0.2, 10, 35)\n",
            "old: {'map': 0.0138, 'P_5': 0.0211, 'ndcg': 0.0417}, new: {'map': 0.0121, 'P_5': 0.0171, 'ndcg': 0.04}\n",
            "+++++++++++++++++++++++++++++++++++++++++++++++++\n",
            "New parameters (350, 0.2, 15, 35) are not better. Keeping current bestparam: (100, 0.2, 10, 35)\n",
            "old: {'map': 0.0138, 'P_5': 0.0211, 'ndcg': 0.0417}, new: {'map': 0.0123, 'P_5': 0.0171, 'ndcg': 0.0402}\n",
            "+++++++++++++++++++++++++++++++++++++++++++++++++\n",
            "New parameters (500, 0.2, 5, 25) are not better. Keeping current bestparam: (100, 0.2, 10, 35)\n",
            "old: {'map': 0.0138, 'P_5': 0.0211, 'ndcg': 0.0417}, new: {'map': 0.0114, 'P_5': 0.0197, 'ndcg': 0.0397}\n",
            "+++++++++++++++++++++++++++++++++++++++++++++++++\n",
            "New parameters (500, 0.2, 5, 30) are not better. Keeping current bestparam: (100, 0.2, 10, 35)\n",
            "old: {'map': 0.0138, 'P_5': 0.0211, 'ndcg': 0.0417}, new: {'map': 0.0112, 'P_5': 0.0171, 'ndcg': 0.0393}\n",
            "+++++++++++++++++++++++++++++++++++++++++++++++++\n",
            "New parameters (500, 0.2, 5, 35) are not better. Keeping current bestparam: (100, 0.2, 10, 35)\n",
            "old: {'map': 0.0138, 'P_5': 0.0211, 'ndcg': 0.0417}, new: {'map': 0.0099, 'P_5': 0.0145, 'ndcg': 0.0392}\n",
            "+++++++++++++++++++++++++++++++++++++++++++++++++\n",
            "New parameters (500, 0.2, 10, 25) are not better. Keeping current bestparam: (100, 0.2, 10, 35)\n",
            "old: {'map': 0.0138, 'P_5': 0.0211, 'ndcg': 0.0417}, new: {'map': 0.0125, 'P_5': 0.0197, 'ndcg': 0.0388}\n",
            "+++++++++++++++++++++++++++++++++++++++++++++++++\n",
            "New parameters (500, 0.2, 10, 30) are not better. Keeping current bestparam: (100, 0.2, 10, 35)\n",
            "old: {'map': 0.0138, 'P_5': 0.0211, 'ndcg': 0.0417}, new: {'map': 0.0133, 'P_5': 0.0197, 'ndcg': 0.041}\n",
            "+++++++++++++++++++++++++++++++++++++++++++++++++\n",
            "New parameters (500, 0.2, 10, 35) are not better. Keeping current bestparam: (100, 0.2, 10, 35)\n",
            "old: {'map': 0.0138, 'P_5': 0.0211, 'ndcg': 0.0417}, new: {'map': 0.0133, 'P_5': 0.0211, 'ndcg': 0.0401}\n",
            "+++++++++++++++++++++++++++++++++++++++++++++++++\n",
            "New parameters (500, 0.2, 15, 25) are not better. Keeping current bestparam: (100, 0.2, 10, 35)\n",
            "old: {'map': 0.0138, 'P_5': 0.0211, 'ndcg': 0.0417}, new: {'map': 0.0112, 'P_5': 0.0158, 'ndcg': 0.0395}\n",
            "+++++++++++++++++++++++++++++++++++++++++++++++++\n",
            "New parameters (500, 0.2, 15, 30) are not better. Keeping current bestparam: (100, 0.2, 10, 35)\n",
            "old: {'map': 0.0138, 'P_5': 0.0211, 'ndcg': 0.0417}, new: {'map': 0.0121, 'P_5': 0.0171, 'ndcg': 0.04}\n",
            "+++++++++++++++++++++++++++++++++++++++++++++++++\n",
            "New parameters (500, 0.2, 15, 35) are not better. Keeping current bestparam: (100, 0.2, 10, 35)\n",
            "old: {'map': 0.0138, 'P_5': 0.0211, 'ndcg': 0.0417}, new: {'map': 0.0123, 'P_5': 0.0171, 'ndcg': 0.0402}\n",
            "+++++++++++++++++++++++++++++++++++++++++++++++++\n",
            "New parameters (600, 0.2, 5, 25) are not better. Keeping current bestparam: (100, 0.2, 10, 35)\n",
            "old: {'map': 0.0138, 'P_5': 0.0211, 'ndcg': 0.0417}, new: {'map': 0.0114, 'P_5': 0.0197, 'ndcg': 0.0397}\n",
            "+++++++++++++++++++++++++++++++++++++++++++++++++\n",
            "New parameters (600, 0.2, 5, 30) are not better. Keeping current bestparam: (100, 0.2, 10, 35)\n",
            "old: {'map': 0.0138, 'P_5': 0.0211, 'ndcg': 0.0417}, new: {'map': 0.0112, 'P_5': 0.0171, 'ndcg': 0.0393}\n",
            "+++++++++++++++++++++++++++++++++++++++++++++++++\n",
            "New parameters (600, 0.2, 5, 35) are not better. Keeping current bestparam: (100, 0.2, 10, 35)\n",
            "old: {'map': 0.0138, 'P_5': 0.0211, 'ndcg': 0.0417}, new: {'map': 0.0099, 'P_5': 0.0145, 'ndcg': 0.0392}\n",
            "+++++++++++++++++++++++++++++++++++++++++++++++++\n",
            "New parameters (600, 0.2, 10, 25) are not better. Keeping current bestparam: (100, 0.2, 10, 35)\n",
            "old: {'map': 0.0138, 'P_5': 0.0211, 'ndcg': 0.0417}, new: {'map': 0.0125, 'P_5': 0.0197, 'ndcg': 0.0388}\n",
            "+++++++++++++++++++++++++++++++++++++++++++++++++\n",
            "New parameters (600, 0.2, 10, 30) are not better. Keeping current bestparam: (100, 0.2, 10, 35)\n",
            "old: {'map': 0.0138, 'P_5': 0.0211, 'ndcg': 0.0417}, new: {'map': 0.0133, 'P_5': 0.0197, 'ndcg': 0.041}\n",
            "+++++++++++++++++++++++++++++++++++++++++++++++++\n",
            "New parameters (600, 0.2, 10, 35) are not better. Keeping current bestparam: (100, 0.2, 10, 35)\n",
            "old: {'map': 0.0138, 'P_5': 0.0211, 'ndcg': 0.0417}, new: {'map': 0.0133, 'P_5': 0.0211, 'ndcg': 0.0401}\n",
            "+++++++++++++++++++++++++++++++++++++++++++++++++\n",
            "New parameters (600, 0.2, 15, 25) are not better. Keeping current bestparam: (100, 0.2, 10, 35)\n",
            "old: {'map': 0.0138, 'P_5': 0.0211, 'ndcg': 0.0417}, new: {'map': 0.0112, 'P_5': 0.0158, 'ndcg': 0.0395}\n",
            "+++++++++++++++++++++++++++++++++++++++++++++++++\n",
            "New parameters (600, 0.2, 15, 30) are not better. Keeping current bestparam: (100, 0.2, 10, 35)\n",
            "old: {'map': 0.0138, 'P_5': 0.0211, 'ndcg': 0.0417}, new: {'map': 0.0121, 'P_5': 0.0171, 'ndcg': 0.04}\n",
            "+++++++++++++++++++++++++++++++++++++++++++++++++\n",
            "New parameters (600, 0.2, 15, 35) are not better. Keeping current bestparam: (100, 0.2, 10, 35)\n",
            "old: {'map': 0.0138, 'P_5': 0.0211, 'ndcg': 0.0417}, new: {'map': 0.0123, 'P_5': 0.0171, 'ndcg': 0.0402}\n",
            "+++++++++++++++++++++++++++++++++++++++++++++++++\n",
            "New parameters (100, 0.4, 5, 25) are not better. Keeping current bestparam: (100, 0.2, 10, 35)\n",
            "old: {'map': 0.0138, 'P_5': 0.0211, 'ndcg': 0.0417}, new: {'map': 0.0114, 'P_5': 0.0197, 'ndcg': 0.0394}\n",
            "+++++++++++++++++++++++++++++++++++++++++++++++++\n",
            "New parameters (100, 0.4, 5, 30) are not better. Keeping current bestparam: (100, 0.2, 10, 35)\n",
            "old: {'map': 0.0138, 'P_5': 0.0211, 'ndcg': 0.0417}, new: {'map': 0.0114, 'P_5': 0.0184, 'ndcg': 0.0394}\n",
            "+++++++++++++++++++++++++++++++++++++++++++++++++\n",
            "New parameters (100, 0.4, 5, 35) are not better. Keeping current bestparam: (100, 0.2, 10, 35)\n",
            "old: {'map': 0.0138, 'P_5': 0.0211, 'ndcg': 0.0417}, new: {'map': 0.0097, 'P_5': 0.0145, 'ndcg': 0.0386}\n",
            "+++++++++++++++++++++++++++++++++++++++++++++++++\n",
            "New parameters (100, 0.4, 10, 25) are not better. Keeping current bestparam: (100, 0.2, 10, 35)\n",
            "old: {'map': 0.0138, 'P_5': 0.0211, 'ndcg': 0.0417}, new: {'map': 0.0125, 'P_5': 0.0197, 'ndcg': 0.0385}\n",
            "+++++++++++++++++++++++++++++++++++++++++++++++++\n",
            "New parameters (100, 0.4, 10, 30) are not better. Keeping current bestparam: (100, 0.2, 10, 35)\n",
            "old: {'map': 0.0138, 'P_5': 0.0211, 'ndcg': 0.0417}, new: {'map': 0.0133, 'P_5': 0.0197, 'ndcg': 0.041}\n",
            "+++++++++++++++++++++++++++++++++++++++++++++++++\n",
            "New parameters are better. Updated best_params: (100, 0.4, 10, 35)\n",
            "old: {'map': 0.0138, 'P_5': 0.0211, 'ndcg': 0.0417}, new: {'map': 0.0138, 'P_5': 0.0211, 'ndcg': 0.0417}\n",
            "=================================================\n",
            "New parameters (100, 0.4, 15, 25) are not better. Keeping current bestparam: (100, 0.4, 10, 35)\n",
            "old: {'map': 0.0138, 'P_5': 0.0211, 'ndcg': 0.0417}, new: {'map': 0.0112, 'P_5': 0.0158, 'ndcg': 0.0395}\n",
            "+++++++++++++++++++++++++++++++++++++++++++++++++\n",
            "New parameters (100, 0.4, 15, 30) are not better. Keeping current bestparam: (100, 0.4, 10, 35)\n",
            "old: {'map': 0.0138, 'P_5': 0.0211, 'ndcg': 0.0417}, new: {'map': 0.0121, 'P_5': 0.0171, 'ndcg': 0.04}\n",
            "+++++++++++++++++++++++++++++++++++++++++++++++++\n",
            "New parameters (100, 0.4, 15, 35) are not better. Keeping current bestparam: (100, 0.4, 10, 35)\n",
            "old: {'map': 0.0138, 'P_5': 0.0211, 'ndcg': 0.0417}, new: {'map': 0.0123, 'P_5': 0.0171, 'ndcg': 0.0402}\n",
            "+++++++++++++++++++++++++++++++++++++++++++++++++\n",
            "New parameters (200, 0.4, 5, 25) are not better. Keeping current bestparam: (100, 0.4, 10, 35)\n",
            "old: {'map': 0.0138, 'P_5': 0.0211, 'ndcg': 0.0417}, new: {'map': 0.0114, 'P_5': 0.0197, 'ndcg': 0.0397}\n",
            "+++++++++++++++++++++++++++++++++++++++++++++++++\n",
            "New parameters (200, 0.4, 5, 30) are not better. Keeping current bestparam: (100, 0.4, 10, 35)\n",
            "old: {'map': 0.0138, 'P_5': 0.0211, 'ndcg': 0.0417}, new: {'map': 0.0112, 'P_5': 0.0171, 'ndcg': 0.0393}\n",
            "+++++++++++++++++++++++++++++++++++++++++++++++++\n",
            "New parameters (200, 0.4, 5, 35) are not better. Keeping current bestparam: (100, 0.4, 10, 35)\n",
            "old: {'map': 0.0138, 'P_5': 0.0211, 'ndcg': 0.0417}, new: {'map': 0.0098, 'P_5': 0.0145, 'ndcg': 0.0395}\n",
            "+++++++++++++++++++++++++++++++++++++++++++++++++\n",
            "New parameters (200, 0.4, 10, 25) are not better. Keeping current bestparam: (100, 0.4, 10, 35)\n",
            "old: {'map': 0.0138, 'P_5': 0.0211, 'ndcg': 0.0417}, new: {'map': 0.0125, 'P_5': 0.0197, 'ndcg': 0.0388}\n",
            "+++++++++++++++++++++++++++++++++++++++++++++++++\n",
            "New parameters (200, 0.4, 10, 30) are not better. Keeping current bestparam: (100, 0.4, 10, 35)\n",
            "old: {'map': 0.0138, 'P_5': 0.0211, 'ndcg': 0.0417}, new: {'map': 0.0133, 'P_5': 0.0197, 'ndcg': 0.041}\n",
            "+++++++++++++++++++++++++++++++++++++++++++++++++\n",
            "New parameters (200, 0.4, 10, 35) are not better. Keeping current bestparam: (100, 0.4, 10, 35)\n",
            "old: {'map': 0.0138, 'P_5': 0.0211, 'ndcg': 0.0417}, new: {'map': 0.0133, 'P_5': 0.0211, 'ndcg': 0.0401}\n",
            "+++++++++++++++++++++++++++++++++++++++++++++++++\n",
            "New parameters (200, 0.4, 15, 25) are not better. Keeping current bestparam: (100, 0.4, 10, 35)\n",
            "old: {'map': 0.0138, 'P_5': 0.0211, 'ndcg': 0.0417}, new: {'map': 0.0112, 'P_5': 0.0158, 'ndcg': 0.0395}\n",
            "+++++++++++++++++++++++++++++++++++++++++++++++++\n",
            "New parameters (200, 0.4, 15, 30) are not better. Keeping current bestparam: (100, 0.4, 10, 35)\n",
            "old: {'map': 0.0138, 'P_5': 0.0211, 'ndcg': 0.0417}, new: {'map': 0.0121, 'P_5': 0.0171, 'ndcg': 0.04}\n",
            "+++++++++++++++++++++++++++++++++++++++++++++++++\n",
            "New parameters (200, 0.4, 15, 35) are not better. Keeping current bestparam: (100, 0.4, 10, 35)\n",
            "old: {'map': 0.0138, 'P_5': 0.0211, 'ndcg': 0.0417}, new: {'map': 0.0123, 'P_5': 0.0171, 'ndcg': 0.0402}\n",
            "+++++++++++++++++++++++++++++++++++++++++++++++++\n",
            "New parameters (350, 0.4, 5, 25) are not better. Keeping current bestparam: (100, 0.4, 10, 35)\n",
            "old: {'map': 0.0138, 'P_5': 0.0211, 'ndcg': 0.0417}, new: {'map': 0.0114, 'P_5': 0.0197, 'ndcg': 0.0397}\n",
            "+++++++++++++++++++++++++++++++++++++++++++++++++\n",
            "New parameters (350, 0.4, 5, 30) are not better. Keeping current bestparam: (100, 0.4, 10, 35)\n",
            "old: {'map': 0.0138, 'P_5': 0.0211, 'ndcg': 0.0417}, new: {'map': 0.0112, 'P_5': 0.0171, 'ndcg': 0.0393}\n",
            "+++++++++++++++++++++++++++++++++++++++++++++++++\n",
            "New parameters (350, 0.4, 5, 35) are not better. Keeping current bestparam: (100, 0.4, 10, 35)\n",
            "old: {'map': 0.0138, 'P_5': 0.0211, 'ndcg': 0.0417}, new: {'map': 0.0098, 'P_5': 0.0145, 'ndcg': 0.0393}\n",
            "+++++++++++++++++++++++++++++++++++++++++++++++++\n",
            "New parameters (350, 0.4, 10, 25) are not better. Keeping current bestparam: (100, 0.4, 10, 35)\n",
            "old: {'map': 0.0138, 'P_5': 0.0211, 'ndcg': 0.0417}, new: {'map': 0.0125, 'P_5': 0.0197, 'ndcg': 0.0388}\n",
            "+++++++++++++++++++++++++++++++++++++++++++++++++\n",
            "New parameters (350, 0.4, 10, 30) are not better. Keeping current bestparam: (100, 0.4, 10, 35)\n",
            "old: {'map': 0.0138, 'P_5': 0.0211, 'ndcg': 0.0417}, new: {'map': 0.0133, 'P_5': 0.0197, 'ndcg': 0.041}\n",
            "+++++++++++++++++++++++++++++++++++++++++++++++++\n",
            "New parameters (350, 0.4, 10, 35) are not better. Keeping current bestparam: (100, 0.4, 10, 35)\n",
            "old: {'map': 0.0138, 'P_5': 0.0211, 'ndcg': 0.0417}, new: {'map': 0.0133, 'P_5': 0.0211, 'ndcg': 0.0401}\n",
            "+++++++++++++++++++++++++++++++++++++++++++++++++\n",
            "New parameters (350, 0.4, 15, 25) are not better. Keeping current bestparam: (100, 0.4, 10, 35)\n",
            "old: {'map': 0.0138, 'P_5': 0.0211, 'ndcg': 0.0417}, new: {'map': 0.0112, 'P_5': 0.0158, 'ndcg': 0.0395}\n",
            "+++++++++++++++++++++++++++++++++++++++++++++++++\n",
            "New parameters (350, 0.4, 15, 30) are not better. Keeping current bestparam: (100, 0.4, 10, 35)\n",
            "old: {'map': 0.0138, 'P_5': 0.0211, 'ndcg': 0.0417}, new: {'map': 0.0121, 'P_5': 0.0171, 'ndcg': 0.04}\n",
            "+++++++++++++++++++++++++++++++++++++++++++++++++\n",
            "New parameters (350, 0.4, 15, 35) are not better. Keeping current bestparam: (100, 0.4, 10, 35)\n",
            "old: {'map': 0.0138, 'P_5': 0.0211, 'ndcg': 0.0417}, new: {'map': 0.0123, 'P_5': 0.0171, 'ndcg': 0.0402}\n",
            "+++++++++++++++++++++++++++++++++++++++++++++++++\n",
            "New parameters (500, 0.4, 5, 25) are not better. Keeping current bestparam: (100, 0.4, 10, 35)\n",
            "old: {'map': 0.0138, 'P_5': 0.0211, 'ndcg': 0.0417}, new: {'map': 0.0114, 'P_5': 0.0197, 'ndcg': 0.0397}\n",
            "+++++++++++++++++++++++++++++++++++++++++++++++++\n",
            "New parameters (500, 0.4, 5, 30) are not better. Keeping current bestparam: (100, 0.4, 10, 35)\n",
            "old: {'map': 0.0138, 'P_5': 0.0211, 'ndcg': 0.0417}, new: {'map': 0.0112, 'P_5': 0.0171, 'ndcg': 0.0393}\n",
            "+++++++++++++++++++++++++++++++++++++++++++++++++\n",
            "New parameters (500, 0.4, 5, 35) are not better. Keeping current bestparam: (100, 0.4, 10, 35)\n",
            "old: {'map': 0.0138, 'P_5': 0.0211, 'ndcg': 0.0417}, new: {'map': 0.0099, 'P_5': 0.0145, 'ndcg': 0.0392}\n",
            "+++++++++++++++++++++++++++++++++++++++++++++++++\n",
            "New parameters (500, 0.4, 10, 25) are not better. Keeping current bestparam: (100, 0.4, 10, 35)\n",
            "old: {'map': 0.0138, 'P_5': 0.0211, 'ndcg': 0.0417}, new: {'map': 0.0125, 'P_5': 0.0197, 'ndcg': 0.0388}\n",
            "+++++++++++++++++++++++++++++++++++++++++++++++++\n",
            "New parameters (500, 0.4, 10, 30) are not better. Keeping current bestparam: (100, 0.4, 10, 35)\n",
            "old: {'map': 0.0138, 'P_5': 0.0211, 'ndcg': 0.0417}, new: {'map': 0.0133, 'P_5': 0.0197, 'ndcg': 0.041}\n",
            "+++++++++++++++++++++++++++++++++++++++++++++++++\n",
            "New parameters (500, 0.4, 10, 35) are not better. Keeping current bestparam: (100, 0.4, 10, 35)\n",
            "old: {'map': 0.0138, 'P_5': 0.0211, 'ndcg': 0.0417}, new: {'map': 0.0133, 'P_5': 0.0211, 'ndcg': 0.0401}\n",
            "+++++++++++++++++++++++++++++++++++++++++++++++++\n",
            "New parameters (500, 0.4, 15, 25) are not better. Keeping current bestparam: (100, 0.4, 10, 35)\n",
            "old: {'map': 0.0138, 'P_5': 0.0211, 'ndcg': 0.0417}, new: {'map': 0.0112, 'P_5': 0.0158, 'ndcg': 0.0395}\n",
            "+++++++++++++++++++++++++++++++++++++++++++++++++\n",
            "New parameters (500, 0.4, 15, 30) are not better. Keeping current bestparam: (100, 0.4, 10, 35)\n",
            "old: {'map': 0.0138, 'P_5': 0.0211, 'ndcg': 0.0417}, new: {'map': 0.0121, 'P_5': 0.0171, 'ndcg': 0.04}\n",
            "+++++++++++++++++++++++++++++++++++++++++++++++++\n",
            "New parameters (500, 0.4, 15, 35) are not better. Keeping current bestparam: (100, 0.4, 10, 35)\n",
            "old: {'map': 0.0138, 'P_5': 0.0211, 'ndcg': 0.0417}, new: {'map': 0.0123, 'P_5': 0.0171, 'ndcg': 0.0402}\n",
            "+++++++++++++++++++++++++++++++++++++++++++++++++\n",
            "New parameters (600, 0.4, 5, 25) are not better. Keeping current bestparam: (100, 0.4, 10, 35)\n",
            "old: {'map': 0.0138, 'P_5': 0.0211, 'ndcg': 0.0417}, new: {'map': 0.0114, 'P_5': 0.0197, 'ndcg': 0.0397}\n",
            "+++++++++++++++++++++++++++++++++++++++++++++++++\n",
            "New parameters (600, 0.4, 5, 30) are not better. Keeping current bestparam: (100, 0.4, 10, 35)\n",
            "old: {'map': 0.0138, 'P_5': 0.0211, 'ndcg': 0.0417}, new: {'map': 0.0112, 'P_5': 0.0171, 'ndcg': 0.0393}\n",
            "+++++++++++++++++++++++++++++++++++++++++++++++++\n",
            "New parameters (600, 0.4, 5, 35) are not better. Keeping current bestparam: (100, 0.4, 10, 35)\n",
            "old: {'map': 0.0138, 'P_5': 0.0211, 'ndcg': 0.0417}, new: {'map': 0.0099, 'P_5': 0.0145, 'ndcg': 0.0392}\n",
            "+++++++++++++++++++++++++++++++++++++++++++++++++\n",
            "New parameters (600, 0.4, 10, 25) are not better. Keeping current bestparam: (100, 0.4, 10, 35)\n",
            "old: {'map': 0.0138, 'P_5': 0.0211, 'ndcg': 0.0417}, new: {'map': 0.0125, 'P_5': 0.0197, 'ndcg': 0.0388}\n",
            "+++++++++++++++++++++++++++++++++++++++++++++++++\n",
            "New parameters (600, 0.4, 10, 30) are not better. Keeping current bestparam: (100, 0.4, 10, 35)\n",
            "old: {'map': 0.0138, 'P_5': 0.0211, 'ndcg': 0.0417}, new: {'map': 0.0133, 'P_5': 0.0197, 'ndcg': 0.041}\n",
            "+++++++++++++++++++++++++++++++++++++++++++++++++\n",
            "New parameters (600, 0.4, 10, 35) are not better. Keeping current bestparam: (100, 0.4, 10, 35)\n",
            "old: {'map': 0.0138, 'P_5': 0.0211, 'ndcg': 0.0417}, new: {'map': 0.0133, 'P_5': 0.0211, 'ndcg': 0.0401}\n",
            "+++++++++++++++++++++++++++++++++++++++++++++++++\n",
            "New parameters (600, 0.4, 15, 25) are not better. Keeping current bestparam: (100, 0.4, 10, 35)\n",
            "old: {'map': 0.0138, 'P_5': 0.0211, 'ndcg': 0.0417}, new: {'map': 0.0112, 'P_5': 0.0158, 'ndcg': 0.0395}\n",
            "+++++++++++++++++++++++++++++++++++++++++++++++++\n",
            "New parameters (600, 0.4, 15, 30) are not better. Keeping current bestparam: (100, 0.4, 10, 35)\n",
            "old: {'map': 0.0138, 'P_5': 0.0211, 'ndcg': 0.0417}, new: {'map': 0.0121, 'P_5': 0.0171, 'ndcg': 0.04}\n",
            "+++++++++++++++++++++++++++++++++++++++++++++++++\n",
            "New parameters (600, 0.4, 15, 35) are not better. Keeping current bestparam: (100, 0.4, 10, 35)\n",
            "old: {'map': 0.0138, 'P_5': 0.0211, 'ndcg': 0.0417}, new: {'map': 0.0123, 'P_5': 0.0171, 'ndcg': 0.0402}\n",
            "+++++++++++++++++++++++++++++++++++++++++++++++++\n",
            "New parameters (100, 0.6, 5, 25) are not better. Keeping current bestparam: (100, 0.4, 10, 35)\n",
            "old: {'map': 0.0138, 'P_5': 0.0211, 'ndcg': 0.0417}, new: {'map': 0.0114, 'P_5': 0.0197, 'ndcg': 0.0394}\n",
            "+++++++++++++++++++++++++++++++++++++++++++++++++\n",
            "New parameters (100, 0.6, 5, 30) are not better. Keeping current bestparam: (100, 0.4, 10, 35)\n",
            "old: {'map': 0.0138, 'P_5': 0.0211, 'ndcg': 0.0417}, new: {'map': 0.0114, 'P_5': 0.0184, 'ndcg': 0.0394}\n",
            "+++++++++++++++++++++++++++++++++++++++++++++++++\n",
            "New parameters (100, 0.6, 5, 35) are not better. Keeping current bestparam: (100, 0.4, 10, 35)\n",
            "old: {'map': 0.0138, 'P_5': 0.0211, 'ndcg': 0.0417}, new: {'map': 0.0097, 'P_5': 0.0145, 'ndcg': 0.0386}\n",
            "+++++++++++++++++++++++++++++++++++++++++++++++++\n",
            "New parameters (100, 0.6, 10, 25) are not better. Keeping current bestparam: (100, 0.4, 10, 35)\n",
            "old: {'map': 0.0138, 'P_5': 0.0211, 'ndcg': 0.0417}, new: {'map': 0.0125, 'P_5': 0.0197, 'ndcg': 0.0385}\n",
            "+++++++++++++++++++++++++++++++++++++++++++++++++\n",
            "New parameters (100, 0.6, 10, 30) are not better. Keeping current bestparam: (100, 0.4, 10, 35)\n",
            "old: {'map': 0.0138, 'P_5': 0.0211, 'ndcg': 0.0417}, new: {'map': 0.0133, 'P_5': 0.0197, 'ndcg': 0.041}\n",
            "+++++++++++++++++++++++++++++++++++++++++++++++++\n",
            "New parameters are better. Updated best_params: (100, 0.6, 10, 35)\n",
            "old: {'map': 0.0138, 'P_5': 0.0211, 'ndcg': 0.0417}, new: {'map': 0.0138, 'P_5': 0.0211, 'ndcg': 0.0417}\n",
            "=================================================\n",
            "New parameters (100, 0.6, 15, 25) are not better. Keeping current bestparam: (100, 0.6, 10, 35)\n",
            "old: {'map': 0.0138, 'P_5': 0.0211, 'ndcg': 0.0417}, new: {'map': 0.0112, 'P_5': 0.0158, 'ndcg': 0.0395}\n",
            "+++++++++++++++++++++++++++++++++++++++++++++++++\n",
            "New parameters (100, 0.6, 15, 30) are not better. Keeping current bestparam: (100, 0.6, 10, 35)\n",
            "old: {'map': 0.0138, 'P_5': 0.0211, 'ndcg': 0.0417}, new: {'map': 0.0121, 'P_5': 0.0171, 'ndcg': 0.04}\n",
            "+++++++++++++++++++++++++++++++++++++++++++++++++\n",
            "New parameters (100, 0.6, 15, 35) are not better. Keeping current bestparam: (100, 0.6, 10, 35)\n",
            "old: {'map': 0.0138, 'P_5': 0.0211, 'ndcg': 0.0417}, new: {'map': 0.0123, 'P_5': 0.0171, 'ndcg': 0.0402}\n",
            "+++++++++++++++++++++++++++++++++++++++++++++++++\n",
            "New parameters (200, 0.6, 5, 25) are not better. Keeping current bestparam: (100, 0.6, 10, 35)\n",
            "old: {'map': 0.0138, 'P_5': 0.0211, 'ndcg': 0.0417}, new: {'map': 0.0114, 'P_5': 0.0197, 'ndcg': 0.0397}\n",
            "+++++++++++++++++++++++++++++++++++++++++++++++++\n",
            "New parameters (200, 0.6, 5, 30) are not better. Keeping current bestparam: (100, 0.6, 10, 35)\n",
            "old: {'map': 0.0138, 'P_5': 0.0211, 'ndcg': 0.0417}, new: {'map': 0.0112, 'P_5': 0.0171, 'ndcg': 0.0393}\n",
            "+++++++++++++++++++++++++++++++++++++++++++++++++\n",
            "New parameters (200, 0.6, 5, 35) are not better. Keeping current bestparam: (100, 0.6, 10, 35)\n",
            "old: {'map': 0.0138, 'P_5': 0.0211, 'ndcg': 0.0417}, new: {'map': 0.0098, 'P_5': 0.0145, 'ndcg': 0.0395}\n",
            "+++++++++++++++++++++++++++++++++++++++++++++++++\n",
            "New parameters (200, 0.6, 10, 25) are not better. Keeping current bestparam: (100, 0.6, 10, 35)\n",
            "old: {'map': 0.0138, 'P_5': 0.0211, 'ndcg': 0.0417}, new: {'map': 0.0125, 'P_5': 0.0197, 'ndcg': 0.0388}\n",
            "+++++++++++++++++++++++++++++++++++++++++++++++++\n",
            "New parameters (200, 0.6, 10, 30) are not better. Keeping current bestparam: (100, 0.6, 10, 35)\n",
            "old: {'map': 0.0138, 'P_5': 0.0211, 'ndcg': 0.0417}, new: {'map': 0.0133, 'P_5': 0.0197, 'ndcg': 0.041}\n",
            "+++++++++++++++++++++++++++++++++++++++++++++++++\n",
            "New parameters (200, 0.6, 10, 35) are not better. Keeping current bestparam: (100, 0.6, 10, 35)\n",
            "old: {'map': 0.0138, 'P_5': 0.0211, 'ndcg': 0.0417}, new: {'map': 0.0133, 'P_5': 0.0211, 'ndcg': 0.0401}\n",
            "+++++++++++++++++++++++++++++++++++++++++++++++++\n",
            "New parameters (200, 0.6, 15, 25) are not better. Keeping current bestparam: (100, 0.6, 10, 35)\n",
            "old: {'map': 0.0138, 'P_5': 0.0211, 'ndcg': 0.0417}, new: {'map': 0.0112, 'P_5': 0.0158, 'ndcg': 0.0395}\n",
            "+++++++++++++++++++++++++++++++++++++++++++++++++\n",
            "New parameters (200, 0.6, 15, 30) are not better. Keeping current bestparam: (100, 0.6, 10, 35)\n",
            "old: {'map': 0.0138, 'P_5': 0.0211, 'ndcg': 0.0417}, new: {'map': 0.0121, 'P_5': 0.0171, 'ndcg': 0.04}\n",
            "+++++++++++++++++++++++++++++++++++++++++++++++++\n",
            "New parameters (200, 0.6, 15, 35) are not better. Keeping current bestparam: (100, 0.6, 10, 35)\n",
            "old: {'map': 0.0138, 'P_5': 0.0211, 'ndcg': 0.0417}, new: {'map': 0.0123, 'P_5': 0.0171, 'ndcg': 0.0402}\n",
            "+++++++++++++++++++++++++++++++++++++++++++++++++\n",
            "New parameters (350, 0.6, 5, 25) are not better. Keeping current bestparam: (100, 0.6, 10, 35)\n",
            "old: {'map': 0.0138, 'P_5': 0.0211, 'ndcg': 0.0417}, new: {'map': 0.0114, 'P_5': 0.0197, 'ndcg': 0.0397}\n",
            "+++++++++++++++++++++++++++++++++++++++++++++++++\n",
            "New parameters (350, 0.6, 5, 30) are not better. Keeping current bestparam: (100, 0.6, 10, 35)\n",
            "old: {'map': 0.0138, 'P_5': 0.0211, 'ndcg': 0.0417}, new: {'map': 0.0112, 'P_5': 0.0171, 'ndcg': 0.0393}\n",
            "+++++++++++++++++++++++++++++++++++++++++++++++++\n",
            "New parameters (350, 0.6, 5, 35) are not better. Keeping current bestparam: (100, 0.6, 10, 35)\n",
            "old: {'map': 0.0138, 'P_5': 0.0211, 'ndcg': 0.0417}, new: {'map': 0.0098, 'P_5': 0.0145, 'ndcg': 0.0393}\n",
            "+++++++++++++++++++++++++++++++++++++++++++++++++\n",
            "New parameters (350, 0.6, 10, 25) are not better. Keeping current bestparam: (100, 0.6, 10, 35)\n",
            "old: {'map': 0.0138, 'P_5': 0.0211, 'ndcg': 0.0417}, new: {'map': 0.0125, 'P_5': 0.0197, 'ndcg': 0.0388}\n",
            "+++++++++++++++++++++++++++++++++++++++++++++++++\n",
            "New parameters (350, 0.6, 10, 30) are not better. Keeping current bestparam: (100, 0.6, 10, 35)\n",
            "old: {'map': 0.0138, 'P_5': 0.0211, 'ndcg': 0.0417}, new: {'map': 0.0133, 'P_5': 0.0197, 'ndcg': 0.041}\n",
            "+++++++++++++++++++++++++++++++++++++++++++++++++\n",
            "New parameters (350, 0.6, 10, 35) are not better. Keeping current bestparam: (100, 0.6, 10, 35)\n",
            "old: {'map': 0.0138, 'P_5': 0.0211, 'ndcg': 0.0417}, new: {'map': 0.0133, 'P_5': 0.0211, 'ndcg': 0.0401}\n",
            "+++++++++++++++++++++++++++++++++++++++++++++++++\n",
            "New parameters (350, 0.6, 15, 25) are not better. Keeping current bestparam: (100, 0.6, 10, 35)\n",
            "old: {'map': 0.0138, 'P_5': 0.0211, 'ndcg': 0.0417}, new: {'map': 0.0112, 'P_5': 0.0158, 'ndcg': 0.0395}\n",
            "+++++++++++++++++++++++++++++++++++++++++++++++++\n",
            "New parameters (350, 0.6, 15, 30) are not better. Keeping current bestparam: (100, 0.6, 10, 35)\n",
            "old: {'map': 0.0138, 'P_5': 0.0211, 'ndcg': 0.0417}, new: {'map': 0.0121, 'P_5': 0.0171, 'ndcg': 0.04}\n",
            "+++++++++++++++++++++++++++++++++++++++++++++++++\n",
            "New parameters (350, 0.6, 15, 35) are not better. Keeping current bestparam: (100, 0.6, 10, 35)\n",
            "old: {'map': 0.0138, 'P_5': 0.0211, 'ndcg': 0.0417}, new: {'map': 0.0123, 'P_5': 0.0171, 'ndcg': 0.0402}\n",
            "+++++++++++++++++++++++++++++++++++++++++++++++++\n",
            "New parameters (500, 0.6, 5, 25) are not better. Keeping current bestparam: (100, 0.6, 10, 35)\n",
            "old: {'map': 0.0138, 'P_5': 0.0211, 'ndcg': 0.0417}, new: {'map': 0.0114, 'P_5': 0.0197, 'ndcg': 0.0397}\n",
            "+++++++++++++++++++++++++++++++++++++++++++++++++\n",
            "New parameters (500, 0.6, 5, 30) are not better. Keeping current bestparam: (100, 0.6, 10, 35)\n",
            "old: {'map': 0.0138, 'P_5': 0.0211, 'ndcg': 0.0417}, new: {'map': 0.0112, 'P_5': 0.0171, 'ndcg': 0.0393}\n",
            "+++++++++++++++++++++++++++++++++++++++++++++++++\n",
            "New parameters (500, 0.6, 5, 35) are not better. Keeping current bestparam: (100, 0.6, 10, 35)\n",
            "old: {'map': 0.0138, 'P_5': 0.0211, 'ndcg': 0.0417}, new: {'map': 0.0099, 'P_5': 0.0145, 'ndcg': 0.0392}\n",
            "+++++++++++++++++++++++++++++++++++++++++++++++++\n",
            "New parameters (500, 0.6, 10, 25) are not better. Keeping current bestparam: (100, 0.6, 10, 35)\n",
            "old: {'map': 0.0138, 'P_5': 0.0211, 'ndcg': 0.0417}, new: {'map': 0.0125, 'P_5': 0.0197, 'ndcg': 0.0388}\n",
            "+++++++++++++++++++++++++++++++++++++++++++++++++\n",
            "New parameters (500, 0.6, 10, 30) are not better. Keeping current bestparam: (100, 0.6, 10, 35)\n",
            "old: {'map': 0.0138, 'P_5': 0.0211, 'ndcg': 0.0417}, new: {'map': 0.0133, 'P_5': 0.0197, 'ndcg': 0.041}\n",
            "+++++++++++++++++++++++++++++++++++++++++++++++++\n",
            "New parameters (500, 0.6, 10, 35) are not better. Keeping current bestparam: (100, 0.6, 10, 35)\n",
            "old: {'map': 0.0138, 'P_5': 0.0211, 'ndcg': 0.0417}, new: {'map': 0.0133, 'P_5': 0.0211, 'ndcg': 0.0401}\n",
            "+++++++++++++++++++++++++++++++++++++++++++++++++\n",
            "New parameters (500, 0.6, 15, 25) are not better. Keeping current bestparam: (100, 0.6, 10, 35)\n",
            "old: {'map': 0.0138, 'P_5': 0.0211, 'ndcg': 0.0417}, new: {'map': 0.0112, 'P_5': 0.0158, 'ndcg': 0.0395}\n",
            "+++++++++++++++++++++++++++++++++++++++++++++++++\n",
            "New parameters (500, 0.6, 15, 30) are not better. Keeping current bestparam: (100, 0.6, 10, 35)\n",
            "old: {'map': 0.0138, 'P_5': 0.0211, 'ndcg': 0.0417}, new: {'map': 0.0121, 'P_5': 0.0171, 'ndcg': 0.04}\n",
            "+++++++++++++++++++++++++++++++++++++++++++++++++\n",
            "New parameters (500, 0.6, 15, 35) are not better. Keeping current bestparam: (100, 0.6, 10, 35)\n",
            "old: {'map': 0.0138, 'P_5': 0.0211, 'ndcg': 0.0417}, new: {'map': 0.0123, 'P_5': 0.0171, 'ndcg': 0.0402}\n",
            "+++++++++++++++++++++++++++++++++++++++++++++++++\n",
            "New parameters (600, 0.6, 5, 25) are not better. Keeping current bestparam: (100, 0.6, 10, 35)\n",
            "old: {'map': 0.0138, 'P_5': 0.0211, 'ndcg': 0.0417}, new: {'map': 0.0114, 'P_5': 0.0197, 'ndcg': 0.0397}\n",
            "+++++++++++++++++++++++++++++++++++++++++++++++++\n",
            "New parameters (600, 0.6, 5, 30) are not better. Keeping current bestparam: (100, 0.6, 10, 35)\n",
            "old: {'map': 0.0138, 'P_5': 0.0211, 'ndcg': 0.0417}, new: {'map': 0.0112, 'P_5': 0.0171, 'ndcg': 0.0393}\n",
            "+++++++++++++++++++++++++++++++++++++++++++++++++\n",
            "New parameters (600, 0.6, 5, 35) are not better. Keeping current bestparam: (100, 0.6, 10, 35)\n",
            "old: {'map': 0.0138, 'P_5': 0.0211, 'ndcg': 0.0417}, new: {'map': 0.0099, 'P_5': 0.0145, 'ndcg': 0.0392}\n",
            "+++++++++++++++++++++++++++++++++++++++++++++++++\n",
            "New parameters (600, 0.6, 10, 25) are not better. Keeping current bestparam: (100, 0.6, 10, 35)\n",
            "old: {'map': 0.0138, 'P_5': 0.0211, 'ndcg': 0.0417}, new: {'map': 0.0125, 'P_5': 0.0197, 'ndcg': 0.0388}\n",
            "+++++++++++++++++++++++++++++++++++++++++++++++++\n",
            "New parameters (600, 0.6, 10, 30) are not better. Keeping current bestparam: (100, 0.6, 10, 35)\n",
            "old: {'map': 0.0138, 'P_5': 0.0211, 'ndcg': 0.0417}, new: {'map': 0.0133, 'P_5': 0.0197, 'ndcg': 0.041}\n",
            "+++++++++++++++++++++++++++++++++++++++++++++++++\n",
            "New parameters (600, 0.6, 10, 35) are not better. Keeping current bestparam: (100, 0.6, 10, 35)\n",
            "old: {'map': 0.0138, 'P_5': 0.0211, 'ndcg': 0.0417}, new: {'map': 0.0133, 'P_5': 0.0211, 'ndcg': 0.0401}\n",
            "+++++++++++++++++++++++++++++++++++++++++++++++++\n",
            "New parameters (600, 0.6, 15, 25) are not better. Keeping current bestparam: (100, 0.6, 10, 35)\n",
            "old: {'map': 0.0138, 'P_5': 0.0211, 'ndcg': 0.0417}, new: {'map': 0.0112, 'P_5': 0.0158, 'ndcg': 0.0395}\n",
            "+++++++++++++++++++++++++++++++++++++++++++++++++\n",
            "New parameters (600, 0.6, 15, 30) are not better. Keeping current bestparam: (100, 0.6, 10, 35)\n",
            "old: {'map': 0.0138, 'P_5': 0.0211, 'ndcg': 0.0417}, new: {'map': 0.0121, 'P_5': 0.0171, 'ndcg': 0.04}\n",
            "+++++++++++++++++++++++++++++++++++++++++++++++++\n",
            "New parameters (600, 0.6, 15, 35) are not better. Keeping current bestparam: (100, 0.6, 10, 35)\n",
            "old: {'map': 0.0138, 'P_5': 0.0211, 'ndcg': 0.0417}, new: {'map': 0.0123, 'P_5': 0.0171, 'ndcg': 0.0402}\n",
            "+++++++++++++++++++++++++++++++++++++++++++++++++\n"
          ]
        }
      ]
    }
  ]
}